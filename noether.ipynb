{
 "cells": [
  {
   "cell_type": "markdown",
   "id": "84e24a0a-4b35-4eb9-a93f-837907a532ba",
   "metadata": {},
   "source": [
    "- https://github.com/almond-sh/examples/blob/master/notebooks/scala-tour/basics.ipynb\n",
    "- https://search.maven.org/artifact/com.spotify/noether-core_2.12/0.4.1-M2/jar\n",
    "- https://github.com/spotify/noether\n",
    "- https://spotify.github.io/noether/latest/api/com/spotify/noether/index.html\n",
    "- https://github.com/almond-sh/examples/blob/master/notebooks/visualization/evilplot.ipynb\n",
    "- https://stackoverflow.com/a/7843167\n",
    "- https://www.scala-lang.org/download/all.html\n",
    "- https://twitter.github.io/algebird/api/#com.twitter.algebird.MultiAggregator$"
   ]
  },
  {
   "cell_type": "code",
   "execution_count": null,
   "id": "63aead71-4c32-4028-a086-af31cc1890e6",
   "metadata": {},
   "outputs": [],
   "source": [
    "1 + 1"
   ]
  },
  {
   "cell_type": "code",
   "execution_count": null,
   "id": "3a3f3305-e60f-40b0-80ea-a0ebdf114f1e",
   "metadata": {},
   "outputs": [],
   "source": [
    "println(\"Hello, World!\")"
   ]
  },
  {
   "cell_type": "code",
   "execution_count": null,
   "id": "45e3a947-c9e6-4059-8bbf-29fa3d7c9a5c",
   "metadata": {},
   "outputs": [],
   "source": [
    "val x = 1 + 1\n",
    "println(x)"
   ]
  },
  {
   "cell_type": "code",
   "execution_count": null,
   "id": "5bc5c600-7852-40ba-8b8d-3ce4d73019b2",
   "metadata": {},
   "outputs": [],
   "source": [
    "println(scala.util.Properties.versionString)"
   ]
  },
  {
   "cell_type": "markdown",
   "id": "08f11f8f-1f93-4877-9c41-1287a71fa0c5",
   "metadata": {},
   "source": [
    "---"
   ]
  },
  {
   "cell_type": "code",
   "execution_count": null,
   "id": "a488fca9-270b-4aaf-a479-70f985f904e2",
   "metadata": {},
   "outputs": [],
   "source": [
    "import $ivy.`com.spotify:noether-core_2.12:0.4.1-M2`"
   ]
  },
  {
   "cell_type": "code",
   "execution_count": null,
   "id": "4b5445a7-4d17-438d-9139-4818a986d250",
   "metadata": {},
   "outputs": [],
   "source": [
    "import com.spotify.noether._\n",
    "import com.twitter.algebird.MultiAggregator"
   ]
  },
  {
   "cell_type": "code",
   "execution_count": null,
   "id": "bfc25f84-bddf-4bc6-ae39-ff95a02dc99e",
   "metadata": {},
   "outputs": [],
   "source": [
    "val multiAggregator =\n",
    "  MultiAggregator(AUC(ROC), AUC(PR), ClassificationReport(), BinaryConfusionMatrix())\n",
    "    .andThenPresent { case (roc, pr, report, cm) =>\n",
    "      (roc, pr, report.accuracy, report.recall, report.precision, report.fpr, cm(1, 1), cm(0, 0))\n",
    "    }"
   ]
  },
  {
   "cell_type": "code",
   "execution_count": null,
   "id": "d6d8c3de-d66d-4f8e-854a-a95e3246ead5",
   "metadata": {},
   "outputs": [],
   "source": [
    "val predictions = List(\n",
    "  Prediction(false, 0.1),\n",
    "  Prediction(false, 0.6),\n",
    "  Prediction(true, 0.9),\n",
    "  Prediction(true, 0.9),\n",
    "  Prediction(true, 0.9),\n",
    "  Prediction(false, 0.9)\n",
    ")"
   ]
  },
  {
   "cell_type": "code",
   "execution_count": null,
   "id": "077ca180-ab41-4909-8716-f9d00bcce71a",
   "metadata": {},
   "outputs": [],
   "source": [
    "println(multiAggregator(predictions))"
   ]
  },
  {
   "cell_type": "code",
   "execution_count": null,
   "id": "f78f7833-9f3e-4d15-adc1-06226085d9bc",
   "metadata": {},
   "outputs": [],
   "source": [
    "BinaryConfusionMatrix()(predictions)"
   ]
  },
  {
   "cell_type": "code",
   "execution_count": null,
   "id": "7196d580-4c81-4ac7-ac0f-75c8fd3abae2",
   "metadata": {},
   "outputs": [],
   "source": [
    "BinaryConfusionMatrix()(predictions)(1, 1)"
   ]
  },
  {
   "cell_type": "code",
   "execution_count": null,
   "id": "3d8ef75e-00b7-4b87-b83f-d5fb83e2679f",
   "metadata": {},
   "outputs": [],
   "source": [
    "BinaryConfusionMatrix()(predictions)(0, 0)"
   ]
  },
  {
   "cell_type": "code",
   "execution_count": null,
   "id": "0deab484-eb3d-4311-80e7-1b5adcb2ab22",
   "metadata": {},
   "outputs": [],
   "source": [
    "// https://spotify.github.io/noether/latest/api/com/spotify/noether/Report.html\n",
    "ClassificationReport()(predictions).getClass"
   ]
  },
  {
   "cell_type": "code",
   "execution_count": null,
   "id": "de2c250d-1513-4ff7-89fd-0bc4fd3504f4",
   "metadata": {},
   "outputs": [],
   "source": [
    "ClassificationReport()(predictions)"
   ]
  },
  {
   "cell_type": "markdown",
   "id": "286c422f-1cb6-4581-a809-317bfc9395fe",
   "metadata": {},
   "source": [
    "---"
   ]
  }
 ],
 "metadata": {
  "kernelspec": {
   "display_name": "Scala",
   "language": "scala",
   "name": "scala"
  },
  "language_info": {
   "codemirror_mode": "text/x-scala",
   "file_extension": ".sc",
   "mimetype": "text/x-scala",
   "name": "scala",
   "nbconvert_exporter": "script",
   "version": "2.12.16"
  }
 },
 "nbformat": 4,
 "nbformat_minor": 5
}
